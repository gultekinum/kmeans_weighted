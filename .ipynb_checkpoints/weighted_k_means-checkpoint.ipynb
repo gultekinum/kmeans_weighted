{
 "cells": [
  {
   "cell_type": "markdown",
   "id": "ab8be29d",
   "metadata": {},
   "source": [
    "# Weighted K-Means / Umut Gültekin 17401775"
   ]
  },
  {
   "cell_type": "markdown",
   "id": "233f0d4c",
   "metadata": {},
   "source": [
    "## Rastgele Nokta Üretici\n",
    "\n",
    "Algoritmanın çıktı doğruluğunu kontrol edebilmek adına 3 merkez etrafında kümelenen rastgele noktalar oluşturuyorum."
   ]
  },
  {
   "cell_type": "code",
   "execution_count": 1,
   "id": "926f0647",
   "metadata": {},
   "outputs": [],
   "source": [
    "import numpy as np\n",
    "import matplotlib.pyplot as plt\n",
    "from random import randint\n",
    "\n",
    "def random_data_generator():\n",
    "    center_1 = np.array([1,1])\n",
    "    center_2 = np.array([5,5])\n",
    "    center_3 = np.array([8,1])\n",
    "\n",
    "    data_1 = np.random.randn(200, 2) + center_1\n",
    "    data_2 = np.random.randn(200,2) + center_2\n",
    "    data_3 = np.random.randn(200,2) + center_3\n",
    "\n",
    "    data = np.concatenate((data_1, data_2, data_3), axis = 0)\n",
    "\n",
    "    plt.scatter(data[:,0], data[:,1], s=7)\n",
    "    return data"
   ]
  },
  {
   "cell_type": "markdown",
   "id": "014ee629",
   "metadata": {},
   "source": [
    "## Uzaklık Fonksiyonu"
   ]
  },
  {
   "cell_type": "code",
   "execution_count": 2,
   "id": "caf71e4b",
   "metadata": {},
   "outputs": [],
   "source": [
    "def distance(x1,y1,x2,y2):\n",
    "    return ((x1-x2)**2+(y1-y2)**2)**0.5"
   ]
  },
  {
   "cell_type": "markdown",
   "id": "c12907c5",
   "metadata": {},
   "source": [
    "## Ağırlık Ekleyici\n",
    "Üretilen x,y koordinatlarına sahip verilere ağırlık kat sayısı da ekliyorum ve bu bilgileri sözlük yapısında döndürüyorum."
   ]
  },
  {
   "cell_type": "code",
   "execution_count": 3,
   "id": "87258f99",
   "metadata": {},
   "outputs": [],
   "source": [
    "\n",
    "def add_weight(data):\n",
    "    weighted_points = {}\n",
    "    counter = 0\n",
    "    for point in data:\n",
    "        x,y,weight = point[0],point[1],randint(1,3)\n",
    "        weighted_points[counter]=x,y,weight\n",
    "        counter+=1\n",
    "    return weighted_points\n",
    "\n",
    "             \n",
    "    \n"
   ]
  },
  {
   "cell_type": "markdown",
   "id": "4a30c681",
   "metadata": {},
   "source": [
    "## Ağırlık Eklenmemiş K-Means Algoritması\n",
    "Ağırlık eklenmiş algoritmaya normal K-means algoritmasını karşılaştırabilmek için ilk başta standart K-Means algoritmasından çıktılar elde etmem gerekiyor."
   ]
  },
  {
   "cell_type": "code",
   "execution_count": 4,
   "id": "902145e5",
   "metadata": {},
   "outputs": [],
   "source": [
    "def regular_kmeans(data):\n",
    "    #k means starting\n",
    "    cent1 = np.random.randn(1,2)\n",
    "    cent2 = np.random.randn(1,2)\n",
    "    cent3 = np.random.randn(1,2)\n",
    "\n",
    "    cluster_dict = {}\n",
    "\n",
    "    cluster_dict[cent1[0][0],cent1[0][1]]=[]\n",
    "    cluster_dict[cent2[0][0],cent2[0][1]]=[]\n",
    "    cluster_dict[cent3[0][0],cent3[0][1]]=[]\n",
    "\n",
    "    for j in range(20):\n",
    "        for point in data:\n",
    "            res = []\n",
    "            for centers in cluster_dict:\n",
    "\n",
    "                cx = centers[0]\n",
    "                cy = centers[1]\n",
    "                temp=[centers,distance(cx,cy,point[0],point[1])]\n",
    "                res.append(temp)\n",
    "            min_value = min(res, key = lambda t: t[1])\n",
    "            temp = []\n",
    "            temp.append(point[0])\n",
    "            temp.append(point[1])\n",
    "            cluster_dict[min_value[0]].append(temp)\n",
    "\n",
    "        new_centers = []\n",
    "        old_centers = []\n",
    "\n",
    "        for center in cluster_dict:\n",
    "            x_total = 0\n",
    "            y_total = 0\n",
    "            for point in cluster_dict[center]:\n",
    "                x_total+=point[0]\n",
    "                y_total+=point[1]\n",
    "            mean_x = (x_total+center[0])/(len(cluster_dict[center])+1)\n",
    "            mean_y = (y_total+center[1])/(len(cluster_dict[center])+1)\n",
    "\n",
    "            temp = []\n",
    "            temp.append(mean_x)\n",
    "            temp.append(mean_y)\n",
    "            new_centers.append(temp)\n",
    "\n",
    "        for center in cluster_dict:\n",
    "            old_centers.append(center)\n",
    "\n",
    "        if j!=19:\n",
    "            cluster_dict ={}\n",
    "            for center in new_centers:\n",
    "                cluster_dict[center[0],center[1]] = [] \n",
    "    return cluster_dict"
   ]
  },
  {
   "cell_type": "markdown",
   "id": "40e70b64",
   "metadata": {},
   "source": [
    "## Ağırlık Eklenmiş K-Means Algoritması\n",
    "Standart K-Means algoritmasından farklı olarak bu algoritmada yeni merkez belirkenirken noktaların x,y koordinatları haricinde ağırlık kat sayısını da hesaba dahil ediyorum."
   ]
  },
  {
   "cell_type": "code",
   "execution_count": 5,
   "id": "9c43704f",
   "metadata": {},
   "outputs": [],
   "source": [
    "def weighted_kmeans(weighted_points):\n",
    "    #k means starting\n",
    "    cent1 = np.random.randn(1,2)\n",
    "    cent2 = np.random.randn(1,2)\n",
    "    cent3 = np.random.randn(1,2)\n",
    "\n",
    "    cluster_dict = {}\n",
    "\n",
    "    cluster_dict[cent1[0][0],cent1[0][1]]=[]\n",
    "    cluster_dict[cent2[0][0],cent2[0][1]]=[]\n",
    "    cluster_dict[cent3[0][0],cent3[0][1]]=[]\n",
    "\n",
    "    for j in range(20):\n",
    "        for point in weighted_points:\n",
    "            res = []\n",
    "            for centers in cluster_dict:\n",
    "\n",
    "                cx = centers[0]\n",
    "                cy = centers[1]\n",
    "                temp=[centers,distance(cx,cy,weighted_points[point][0],weighted_points[point][1])]\n",
    "                res.append(temp)\n",
    "            min_value = min(res, key = lambda t: t[1])\n",
    "            temp = []\n",
    "            temp.append(weighted_points[point][0])\n",
    "            temp.append(weighted_points[point][1])\n",
    "            temp.append(weighted_points[point][2])\n",
    "            cluster_dict[min_value[0]].append(temp)\n",
    "\n",
    "        new_centers = []\n",
    "        old_centers = []\n",
    "\n",
    "        for center in cluster_dict:\n",
    "            x_total = 0\n",
    "            y_total = 0\n",
    "            element_number = 0\n",
    "            for point in cluster_dict[center]:\n",
    "                x_total+=point[0]*point[2]\n",
    "                y_total+=point[1]*point[2]\n",
    "                element_number +=point[2]\n",
    "                \n",
    "            mean_x = (x_total+center[0])/(element_number+1)\n",
    "            mean_y = (y_total+center[1])/(element_number+1)\n",
    "\n",
    "            temp = []\n",
    "            temp.append(mean_x)\n",
    "            temp.append(mean_y)\n",
    "            new_centers.append(temp)\n",
    "\n",
    "        for center in cluster_dict:\n",
    "            old_centers.append(center)\n",
    "\n",
    "        if j!=19:\n",
    "            cluster_dict ={}\n",
    "            for center in new_centers:\n",
    "                cluster_dict[center[0],center[1]] = [] \n",
    "    return cluster_dict"
   ]
  },
  {
   "cell_type": "markdown",
   "id": "e2c0a735",
   "metadata": {},
   "source": [
    "## Kümelenmiş Noktaların Gösterilmesi"
   ]
  },
  {
   "cell_type": "code",
   "execution_count": 6,
   "id": "b47c31e7",
   "metadata": {},
   "outputs": [],
   "source": [
    "def plot_clusters(min_x, min_y, max_x, max_y, cluster_dict):\n",
    "\n",
    "    plot_size = 3.5\n",
    "    plt.xlim(min_x*plot_size, max_x*plot_size)\n",
    "    plt.ylim(min_y*plot_size, max_y*plot_size)\n",
    "\n",
    "    color = []\n",
    "    \n",
    "    for center in cluster_dict:\n",
    "        name = \"cluster \"+str(center)\n",
    "        color.append(name)\n",
    "    \n",
    "    \n",
    "    counter = 0\n",
    "    for center in cluster_dict:\n",
    "        x_arr = []\n",
    "        y_arr = []\n",
    "        for point in cluster_dict[center]:\n",
    "            x_arr.append(point[0])\n",
    "            y_arr.append(point[1])\n",
    "        plt.scatter(x_arr, y_arr, s=4, label=color[counter])\n",
    "        counter+=1"
   ]
  },
  {
   "cell_type": "markdown",
   "id": "6cac12e4",
   "metadata": {},
   "source": [
    "### Rastgelere Üretilen Verilerin Görsel Çıktısı"
   ]
  },
  {
   "cell_type": "code",
   "execution_count": 7,
   "id": "2415eba4",
   "metadata": {},
   "outputs": [
    {
     "data": {
      "image/png": "[encoded data removed]",
      "text/plain": [
       "<Figure size 432x288 with 1 Axes>"
      ]
     },
     "metadata": {
      "needs_background": "light"
     },
     "output_type": "display_data"
    }
   ],
   "source": [
    "data = random_data_generator()"
   ]
  },
  {
   "cell_type": "markdown",
   "id": "32549db7",
   "metadata": {},
   "source": [
    "### Standart K-Means Algoritması Sonucunda Görsel Çıktı"
   ]
  },
  {
   "cell_type": "code",
   "execution_count": 8,
   "id": "fa0ff6be",
   "metadata": {
    "scrolled": true
   },
   "outputs": [
    {
     "data": {
      "image/png": "[encoded data removed]",
      "text/plain": [
       "<Figure size 432x288 with 1 Axes>"
      ]
     },
     "metadata": {
      "needs_background": "light"
     },
     "output_type": "display_data"
    }
   ],
   "source": [
    "cluster_dict = regular_kmeans(data)\n",
    "for center in cluster_dict:\n",
    "    min_value_x = min(cluster_dict[center], key = lambda t: t[0])[0]\n",
    "    max_value_x = max(cluster_dict[center], key = lambda t: t[0])[0]\n",
    "    min_value_y = min(cluster_dict[center], key = lambda t: t[1])[1]\n",
    "    max_value_y = max(cluster_dict[center], key = lambda t: t[1])[1]\n",
    "    \n",
    "plot_clusters(min_value_x, min_value_y, max_value_x, max_value_y,cluster_dict)"
   ]
  },
  {
   "cell_type": "markdown",
   "id": "609efdec",
   "metadata": {},
   "source": [
    "### Ağırlık Eklenmiş K-Means Algoritması Sonucunda Görsel Çıktı"
   ]
  },
  {
   "cell_type": "code",
   "execution_count": 10,
   "id": "53691050",
   "metadata": {},
   "outputs": [
    {
     "data": {
      "image/png": "[encoded data removed]",
      "text/plain": [
       "<Figure size 432x288 with 1 Axes>"
      ]
     },
     "metadata": {
      "needs_background": "light"
     },
     "output_type": "display_data"
    }
   ],
   "source": [
    "weighted_dict = add_weight(data)\n",
    "weighted_dict= weighted_kmeans(weighted_dict)\n",
    "for center in weighted_dict:\n",
    "    min_value_x = min(weighted_dict[center], key = lambda t: t[0])[0]\n",
    "    max_value_x = max(weighted_dict[center], key = lambda t: t[0])[0]\n",
    "    min_value_y = min(weighted_dict[center], key = lambda t: t[1])[1]\n",
    "    max_value_y = max(weighted_dict[center], key = lambda t: t[1])[1]\n",
    "    \n",
    "plot_clusters(min_value_x, min_value_y, max_value_x, max_value_y,weighted_dict)"
   ]
  },
  {
   "cell_type": "code",
   "execution_count": null,
   "id": "c47595ab",
   "metadata": {},
   "outputs": [],
   "source": []
  },
  {
   "cell_type": "code",
   "execution_count": null,
   "id": "5a2b758e",
   "metadata": {},
   "outputs": [],
   "source": []
  }
 ],
 "metadata": {
  "kernelspec": {
   "display_name": "Python 3",
   "language": "python",
   "name": "python3"
  },
  "language_info": {
   "codemirror_mode": {
    "name": "ipython",
    "version": 3
   },
   "file_extension": ".py",
   "mimetype": "text/x-python",
   "name": "python",
   "nbconvert_exporter": "python",
   "pygments_lexer": "ipython3",
   "version": "3.8.10"
  }
 },
 "nbformat": 4,
 "nbformat_minor": 5
}
